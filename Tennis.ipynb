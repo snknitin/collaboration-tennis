{
 "cells": [
  {
   "cell_type": "markdown",
   "metadata": {},
   "source": [
    "# Collaboration and Competition\n",
    "\n",
    "---\n",
    "\n",
    "In this notebook, you will learn how to use the Unity ML-Agents environment for the third project of the [Deep Reinforcement Learning Nanodegree](https://www.udacity.com/course/deep-reinforcement-learning-nanodegree--nd893) program.\n",
    "\n",
    "### 1. Start the Environment\n",
    "\n",
    "We begin by importing the necessary packages.  If the code cell below returns an error, please revisit the project instructions to double-check that you have installed [Unity ML-Agents](https://github.com/Unity-Technologies/ml-agents/blob/master/docs/Installation.md) and [NumPy](http://www.numpy.org/)."
   ]
  },
  {
   "cell_type": "code",
   "execution_count": 1,
   "metadata": {},
   "outputs": [],
   "source": [
    "from unityagents import UnityEnvironment\n",
    "import numpy as np\n",
    "import torch\n",
    "from collections import deque"
   ]
  },
  {
   "cell_type": "markdown",
   "metadata": {},
   "source": [
    "Next, we will start the environment!  **_Before running the code cell below_**, change the `file_name` parameter to match the location of the Unity environment that you downloaded.\n",
    "\n",
    "- **Mac**: `\"path/to/Tennis.app\"`\n",
    "- **Windows** (x86): `\"path/to/Tennis_Windows_x86/Tennis.exe\"`\n",
    "- **Windows** (x86_64): `\"path/to/Tennis_Windows_x86_64/Tennis.exe\"`\n",
    "- **Linux** (x86): `\"path/to/Tennis_Linux/Tennis.x86\"`\n",
    "- **Linux** (x86_64): `\"path/to/Tennis_Linux/Tennis.x86_64\"`\n",
    "- **Linux** (x86, headless): `\"path/to/Tennis_Linux_NoVis/Tennis.x86\"`\n",
    "- **Linux** (x86_64, headless): `\"path/to/Tennis_Linux_NoVis/Tennis.x86_64\"`\n",
    "\n",
    "For instance, if you are using a Mac, then you downloaded `Tennis.app`.  If this file is in the same folder as the notebook, then the line below should appear as follows:\n",
    "```\n",
    "env = UnityEnvironment(file_name=\"Tennis.app\")\n",
    "```"
   ]
  },
  {
   "cell_type": "code",
   "execution_count": 2,
   "metadata": {},
   "outputs": [
    {
     "name": "stderr",
     "output_type": "stream",
     "text": [
      "INFO:unityagents:\n",
      "'Academy' started successfully!\n",
      "Unity Academy name: Academy\n",
      "        Number of Brains: 1\n",
      "        Number of External Brains : 1\n",
      "        Lesson number : 0\n",
      "        Reset Parameters :\n",
      "\t\t\n",
      "Unity brain name: TennisBrain\n",
      "        Number of Visual Observations (per agent): 0\n",
      "        Vector Observation space type: continuous\n",
      "        Vector Observation space size (per agent): 8\n",
      "        Number of stacked Vector Observation: 3\n",
      "        Vector Action space type: continuous\n",
      "        Vector Action space size (per agent): 2\n",
      "        Vector Action descriptions: , \n"
     ]
    }
   ],
   "source": [
    "env = UnityEnvironment(file_name=\"E:\\GIT_ROOT\\collaboration-tennis\\Tennis_Windows_x86_64\\Tennis.exe\")"
   ]
  },
  {
   "cell_type": "markdown",
   "metadata": {},
   "source": [
    "Environments contain **_brains_** which are responsible for deciding the actions of their associated agents. Here we check for the first brain available, and set it as the default brain we will be controlling from Python."
   ]
  },
  {
   "cell_type": "code",
   "execution_count": 3,
   "metadata": {},
   "outputs": [],
   "source": [
    "# get the default brain\n",
    "brain_name = env.brain_names[0]\n",
    "brain = env.brains[brain_name]"
   ]
  },
  {
   "cell_type": "markdown",
   "metadata": {},
   "source": [
    "### 2. Examine the State and Action Spaces\n",
    "\n",
    "In this environment, two agents control rackets to bounce a ball over a net. If an agent hits the ball over the net, it receives a reward of +0.1.  If an agent lets a ball hit the ground or hits the ball out of bounds, it receives a reward of -0.01.  Thus, the goal of each agent is to keep the ball in play.\n",
    "\n",
    "The observation space consists of 8 variables corresponding to the position and velocity of the ball and racket. Two continuous actions are available, corresponding to movement toward (or away from) the net, and jumping. \n",
    "\n",
    "Run the code cell below to print some information about the environment."
   ]
  },
  {
   "cell_type": "code",
   "execution_count": 4,
   "metadata": {},
   "outputs": [
    {
     "name": "stdout",
     "output_type": "stream",
     "text": [
      "Number of agents: 2\n",
      "Size of each action: 2\n",
      "There are 2 agents. Each observes a state with length: 24\n",
      "The state for the first agent looks like: [ 0.          0.          0.          0.          0.          0.\n",
      "  0.          0.          0.          0.          0.          0.\n",
      "  0.          0.          0.          0.         -6.65278625 -1.5\n",
      " -0.          0.          6.83172083  6.         -0.          0.        ]\n"
     ]
    }
   ],
   "source": [
    "# reset the environment\n",
    "env_info = env.reset(train_mode=True)[brain_name]\n",
    "\n",
    "# number of agents \n",
    "num_agents = len(env_info.agents)\n",
    "print('Number of agents:', num_agents)\n",
    "\n",
    "# size of each action\n",
    "action_size = brain.vector_action_space_size\n",
    "print('Size of each action:', action_size)\n",
    "\n",
    "# examine the state space \n",
    "states = env_info.vector_observations\n",
    "state_size = states.shape[1]\n",
    "print('There are {} agents. Each observes a state with length: {}'.format(states.shape[0], state_size))\n",
    "print('The state for the first agent looks like:', states[0])"
   ]
  },
  {
   "cell_type": "code",
   "execution_count": 5,
   "metadata": {},
   "outputs": [
    {
     "data": {
      "text/plain": [
       "24"
      ]
     },
     "execution_count": 5,
     "metadata": {},
     "output_type": "execute_result"
    }
   ],
   "source": [
    "brain.vector_observation_space_size*brain.num_stacked_vector_observations"
   ]
  },
  {
   "cell_type": "markdown",
   "metadata": {},
   "source": [
    "### 3. Take Random Actions in the Environment\n",
    "\n",
    "In the next code cell, you will learn how to use the Python API to control the agents and receive feedback from the environment.\n",
    "\n",
    "Once this cell is executed, you will watch the agents' performance, if they select actions at random with each time step.  A window should pop up that allows you to observe the agents.\n",
    "\n",
    "Of course, as part of the project, you'll have to change the code so that the agents are able to use their experiences to gradually choose better actions when interacting with the environment!"
   ]
  },
  {
   "cell_type": "code",
   "execution_count": 6,
   "metadata": {},
   "outputs": [
    {
     "name": "stdout",
     "output_type": "stream",
     "text": [
      "Score (max over agents) from episode 1: 0.0\n",
      "Score (max over agents) from episode 2: 0.0\n",
      "Score (max over agents) from episode 3: 0.0\n",
      "Score (max over agents) from episode 4: 0.0\n",
      "Score (max over agents) from episode 5: 0.09000000171363354\n"
     ]
    }
   ],
   "source": [
    "for i in range(1, 6):                                      # play game for 5 episodes\n",
    "    env_info = env.reset(train_mode=False)[brain_name]     # reset the environment    \n",
    "    states = env_info.vector_observations                  # get the current state (for each agent)\n",
    "    scores = np.zeros(num_agents)                          # initialize the score (for each agent)\n",
    "    while True:\n",
    "        actions = np.random.randn(num_agents, action_size) # select an action (for each agent)\n",
    "        actions = np.clip(actions, -1, 1)                  # all actions between -1 and 1\n",
    "        env_info = env.step(actions)[brain_name]           # send all actions to tne environment\n",
    "        next_states = env_info.vector_observations         # get next state (for each agent)\n",
    "        rewards = env_info.rewards                         # get reward (for each agent)\n",
    "        dones = env_info.local_done                        # see if episode finished\n",
    "        scores += env_info.rewards                         # update the score (for each agent)\n",
    "        states = next_states                               # roll over states to next time step\n",
    "        if np.any(dones):                                  # exit loop if episode finished\n",
    "            break\n",
    "    print('Score (max over agents) from episode {}: {}'.format(i, np.max(scores)))"
   ]
  },
  {
   "cell_type": "markdown",
   "metadata": {},
   "source": [
    "When finished, you can close the environment."
   ]
  },
  {
   "cell_type": "code",
   "execution_count": 7,
   "metadata": {},
   "outputs": [],
   "source": [
    "#env.close()"
   ]
  },
  {
   "cell_type": "markdown",
   "metadata": {},
   "source": [
    "### 4. It's Your Turn!\n",
    "\n",
    "Now it's your turn to train your own agent to solve the environment!  When training the environment, set `train_mode=True`, so that the line for resetting the environment looks like the following:\n",
    "```python\n",
    "env_info = env.reset(train_mode=True)[brain_name]\n",
    "```"
   ]
  },
  {
   "cell_type": "code",
   "execution_count": 15,
   "metadata": {},
   "outputs": [],
   "source": [
    "%reload_ext autoreload\n",
    "%autoreload 2\n",
    "random_seed = 0\n",
    "from MultiAgent import MADDPG\n",
    "\n",
    "agent = MADDPG(state_size, action_size, num_agents, random_seed)\n"
   ]
  },
  {
   "cell_type": "code",
   "execution_count": 9,
   "metadata": {},
   "outputs": [],
   "source": [
    "target = 0.5"
   ]
  },
  {
   "cell_type": "code",
   "execution_count": 10,
   "metadata": {},
   "outputs": [],
   "source": [
    "def train(n_episodes=15000, max_t=1000, print_every=100,save_every=300):\n",
    "    \"\"\"\n",
    "    Multi Agent DDPG Algorithm.\n",
    "    \n",
    "    Params\n",
    "    ======\n",
    "        n_episodes (int): maximum number of training episodes\n",
    "        max_t (int): maximum number of timesteps per episode\n",
    "        print_every (int): frequency of printing information throughout iteration \"\"\"\n",
    "    \n",
    "    \n",
    "    std_2=[]\n",
    "    average_2 = []\n",
    "    scores_2 = []\n",
    "    scores_deque = deque(maxlen=print_every)\n",
    "    reached_target = False\n",
    "    \n",
    "    for i_episode in range(1, n_episodes+1):\n",
    "        scores = np.zeros(num_agents)\n",
    "        env_info = env.reset(train_mode=True)[brain_name]\n",
    "        #agent.reset()\n",
    "        states = env_info.vector_observations            # get the current state\n",
    "        \n",
    "        \n",
    "        while True:\n",
    "\n",
    "            actions = agent.act(states, add_noise=False)\n",
    "            env_info = env.step(actions)[brain_name]        # send the action to the environment\n",
    "            next_states = env_info.vector_observations   # get the next state\n",
    "            rewards = env_info.rewards                   # get the reward\n",
    "            dones = env_info.local_done                  # see if episode has finished        \n",
    "            agent.step(states, actions, rewards, next_states, dones)\n",
    "             # take step with agent (including learning)\n",
    "            scores += rewards                                # update the score\n",
    "            \n",
    "            states = next_states                             # roll over the state to next time step\n",
    "            if np.any(dones):                                       # exit loop if episode finished\n",
    "                break\n",
    "        # Since we have multiple agentsthe score will be max score\n",
    "        score = np.max(scores)\n",
    "        scores_deque.append(score)       # save most recent score\n",
    "        scores_2.append(score)\n",
    "        scores_avg = np.mean(scores_deque)\n",
    "        scores_std = np.std(scores_deque)\n",
    "        average_2.append(scores_avg)\n",
    "        std_2.append(scores_std)\n",
    "        \n",
    "\n",
    "        print('\\rEpisode {}\\tAverage Score: {:.5f}'.format(i_episode, np.mean(scores_deque)), end=\"\")\n",
    "        \n",
    "        if i_episode % print_every == 0:\n",
    "            print('\\rEpisode {}\\tAverage Score: {:.5f}'.format(i_episode, np.mean(scores_deque)))\n",
    "            if i_episode % save_every == 0:\n",
    "                for i in range(num_agents):\n",
    "                    torch.save(agent[i].actor_local.state_dict(), 'checkpoint_actor_player{}.pth'.format(i+1))\n",
    "                    torch.save(agent[i].critic_local.state_dict(), 'checkpoint_critic_player{}.pth'.format(i+1))\n",
    "\n",
    "        if scores_avg>=target:\n",
    "            if not reached_target:\n",
    "                print('\\nEnvironment solved in {:d} episodes!\\tAverage Score: {:.5f}'.format(i_episode, scores_avg))\n",
    "                reached_target = True\n",
    "            for i in range(num_agents):\n",
    "                torch.save(agent[i].actor_local.state_dict(), 'checkpoint_actor_player{}.pth'.format(i+1))\n",
    "                torch.save(agent[i].critic_local.state_dict(), 'checkpoint_critic_player{}.pth'.format(i+1))\n",
    "            break    \n",
    "        \n",
    "            \n",
    "        \n",
    "    \n",
    "            \n",
    "    return scores_2,average_2,std_2"
   ]
  },
  {
   "cell_type": "code",
   "execution_count": 16,
   "metadata": {},
   "outputs": [
    {
     "name": "stdout",
     "output_type": "stream",
     "text": [
      "Episode 100\tAverage Score: 0.00300\n",
      "Episode 200\tAverage Score: 0.00460\n",
      "Episode 300\tAverage Score: 0.00990\n",
      "Episode 400\tAverage Score: 0.00500\n",
      "Episode 500\tAverage Score: 0.00500\n",
      "Episode 600\tAverage Score: 0.00000\n",
      "Episode 700\tAverage Score: 0.00100\n",
      "Episode 800\tAverage Score: 0.00000\n",
      "Episode 900\tAverage Score: 0.00000\n",
      "Episode 1000\tAverage Score: 0.00000\n",
      "Episode 1100\tAverage Score: 0.00000\n",
      "Episode 1200\tAverage Score: 0.00000\n",
      "Episode 1300\tAverage Score: 0.00000\n",
      "Episode 1400\tAverage Score: 0.00000\n",
      "Episode 1500\tAverage Score: 0.00000\n",
      "Episode 1600\tAverage Score: 0.00000\n",
      "Episode 1700\tAverage Score: 0.00000\n",
      "Episode 1800\tAverage Score: 0.00000\n",
      "Episode 1900\tAverage Score: 0.00000\n",
      "Episode 2000\tAverage Score: 0.00000\n",
      "Episode 2100\tAverage Score: 0.00000\n",
      "Episode 2200\tAverage Score: 0.00000\n",
      "Episode 2300\tAverage Score: 0.00000\n",
      "Episode 2400\tAverage Score: 0.00000\n",
      "Episode 2500\tAverage Score: 0.00000\n",
      "Episode 2600\tAverage Score: 0.00000\n",
      "Episode 2700\tAverage Score: 0.00000\n",
      "Episode 2800\tAverage Score: 0.00000\n",
      "Episode 2900\tAverage Score: 0.00000\n",
      "Episode 3000\tAverage Score: 0.00000\n",
      "Episode 3100\tAverage Score: 0.00200\n",
      "Episode 3200\tAverage Score: 0.00400\n",
      "Episode 3300\tAverage Score: 0.02870\n",
      "Episode 3400\tAverage Score: 0.04290\n",
      "Episode 3500\tAverage Score: 0.03430\n",
      "Episode 3600\tAverage Score: 0.01070\n",
      "Episode 3700\tAverage Score: 0.00760\n",
      "Episode 3800\tAverage Score: 0.00000\n",
      "Episode 3900\tAverage Score: 0.00100\n",
      "Episode 4000\tAverage Score: 0.00100\n",
      "Episode 4100\tAverage Score: 0.00100\n",
      "Episode 4200\tAverage Score: 0.00000\n",
      "Episode 4300\tAverage Score: 0.01200\n",
      "Episode 4400\tAverage Score: 0.00990\n",
      "Episode 4500\tAverage Score: 0.00890\n",
      "Episode 4600\tAverage Score: 0.00400\n",
      "Episode 4700\tAverage Score: 0.00470\n",
      "Episode 4800\tAverage Score: 0.00560\n",
      "Episode 4900\tAverage Score: 0.00370\n",
      "Episode 5000\tAverage Score: 0.01360\n",
      "Episode 5100\tAverage Score: 0.00000\n",
      "Episode 5200\tAverage Score: 0.00470\n",
      "Episode 5300\tAverage Score: 0.00900\n",
      "Episode 5400\tAverage Score: 0.01280\n",
      "Episode 5500\tAverage Score: 0.01720\n",
      "Episode 5600\tAverage Score: 0.03390\n",
      "Episode 5700\tAverage Score: 0.05760\n",
      "Episode 5800\tAverage Score: 0.06020\n",
      "Episode 5900\tAverage Score: 0.07000\n",
      "Episode 6000\tAverage Score: 0.07330\n",
      "Episode 6100\tAverage Score: 0.07380\n",
      "Episode 6200\tAverage Score: 0.10970\n",
      "Episode 6300\tAverage Score: 0.11270\n",
      "Episode 6400\tAverage Score: 0.11700\n",
      "Episode 6500\tAverage Score: 0.10830\n",
      "Episode 6600\tAverage Score: 0.10560\n",
      "Episode 6700\tAverage Score: 0.08560\n",
      "Episode 6800\tAverage Score: 0.07590\n",
      "Episode 6900\tAverage Score: 0.10890\n",
      "Episode 7000\tAverage Score: 0.08440\n",
      "Episode 7100\tAverage Score: 0.10660\n",
      "Episode 7200\tAverage Score: 0.09710\n",
      "Episode 7300\tAverage Score: 0.12090\n",
      "Episode 7400\tAverage Score: 0.12250\n",
      "Episode 7500\tAverage Score: 0.11570\n",
      "Episode 7600\tAverage Score: 0.10450\n",
      "Episode 7700\tAverage Score: 0.09720\n",
      "Episode 7800\tAverage Score: 0.10100\n",
      "Episode 7900\tAverage Score: 0.08990\n",
      "Episode 8000\tAverage Score: 0.08110\n",
      "Episode 8100\tAverage Score: 0.08580\n",
      "Episode 8200\tAverage Score: 0.08860\n",
      "Episode 8300\tAverage Score: 0.09710\n",
      "Episode 8400\tAverage Score: 0.08410\n",
      "Episode 8500\tAverage Score: 0.10200\n",
      "Episode 8600\tAverage Score: 0.12920\n",
      "Episode 8700\tAverage Score: 0.12930\n",
      "Episode 8800\tAverage Score: 0.12290\n",
      "Episode 8900\tAverage Score: 0.12820\n",
      "Episode 9000\tAverage Score: 0.13730\n",
      "Episode 9100\tAverage Score: 0.13150\n",
      "Episode 9200\tAverage Score: 0.11840\n",
      "Episode 9300\tAverage Score: 0.13070\n",
      "Episode 9400\tAverage Score: 0.12220\n",
      "Episode 9500\tAverage Score: 0.12950\n",
      "Episode 9600\tAverage Score: 0.12150\n",
      "Episode 9700\tAverage Score: 0.12820\n",
      "Episode 9800\tAverage Score: 0.12490\n",
      "Episode 9900\tAverage Score: 0.12210\n",
      "Episode 10000\tAverage Score: 0.11430\n",
      "Episode 10100\tAverage Score: 0.10860\n",
      "Episode 10200\tAverage Score: 0.11360\n",
      "Episode 10300\tAverage Score: 0.10610\n",
      "Episode 10400\tAverage Score: 0.10150\n",
      "Episode 10500\tAverage Score: 0.10550\n",
      "Episode 10600\tAverage Score: 0.11100\n",
      "Episode 10700\tAverage Score: 0.10990\n",
      "Episode 10800\tAverage Score: 0.11430\n",
      "Episode 10900\tAverage Score: 0.11610\n",
      "Episode 11000\tAverage Score: 0.10310\n",
      "Episode 11100\tAverage Score: 0.10710\n",
      "Episode 11200\tAverage Score: 0.10610\n",
      "Episode 11300\tAverage Score: 0.10520\n",
      "Episode 11400\tAverage Score: 0.10960\n",
      "Episode 11500\tAverage Score: 0.11520\n",
      "Episode 11600\tAverage Score: 0.10860\n",
      "Episode 11700\tAverage Score: 0.12680\n",
      "Episode 11800\tAverage Score: 0.11670\n",
      "Episode 11900\tAverage Score: 0.12470\n",
      "Episode 12000\tAverage Score: 0.14920\n",
      "Episode 12100\tAverage Score: 0.17540\n",
      "Episode 12200\tAverage Score: 0.15860\n",
      "Episode 12300\tAverage Score: 0.18830\n",
      "Episode 12400\tAverage Score: 0.21180\n",
      "Episode 12500\tAverage Score: 0.19220\n",
      "Episode 12600\tAverage Score: 0.18650\n",
      "Episode 12700\tAverage Score: 0.18530\n",
      "Episode 12800\tAverage Score: 0.14260\n",
      "Episode 12900\tAverage Score: 0.15160\n",
      "Episode 13000\tAverage Score: 0.14990\n",
      "Episode 13100\tAverage Score: 0.14150\n",
      "Episode 13200\tAverage Score: 0.13170\n",
      "Episode 13300\tAverage Score: 0.14030\n",
      "Episode 13400\tAverage Score: 0.13720\n",
      "Episode 13500\tAverage Score: 0.12550\n",
      "Episode 13600\tAverage Score: 0.13210\n",
      "Episode 13700\tAverage Score: 0.15120\n",
      "Episode 13800\tAverage Score: 0.16600\n",
      "Episode 13900\tAverage Score: 0.17840\n",
      "Episode 14000\tAverage Score: 0.15080\n",
      "Episode 14100\tAverage Score: 0.15630\n",
      "Episode 14200\tAverage Score: 0.15720\n",
      "Episode 14300\tAverage Score: 0.14070\n",
      "Episode 14400\tAverage Score: 0.13350\n",
      "Episode 14500\tAverage Score: 0.12350\n",
      "Episode 14600\tAverage Score: 0.16010\n",
      "Episode 14700\tAverage Score: 0.12330\n",
      "Episode 14800\tAverage Score: 0.13450\n",
      "Episode 14900\tAverage Score: 0.12990\n",
      "Episode 15000\tAverage Score: 0.11990\n",
      "Wall time: 2h 16min 38s\n"
     ]
    }
   ],
   "source": [
    "%%time\n",
    "scores_2,average_2,std_2 = train()"
   ]
  },
  {
   "cell_type": "code",
   "execution_count": 17,
   "metadata": {},
   "outputs": [
    {
     "data": {
      "image/png": "[encoded data removed]",
      "text/plain": [
       "<Figure size 864x360 with 2 Axes>"
      ]
     },
     "metadata": {
      "needs_background": "light"
     },
     "output_type": "display_data"
    }
   ],
   "source": [
    "import matplotlib.pyplot as plt\n",
    "import seaborn as sns\n",
    "import numpy as np\n",
    "\n",
    "%matplotlib inline\n",
    "\n",
    "values = np.array(scores_2)\n",
    "averages = np.array(average_2)\n",
    "std = np.array(std_2)\n",
    "\n",
    "# plot the scores\n",
    "f, (ax1, ax2) = plt.subplots(1, 2, figsize=(12, 5), sharex=True, sharey=False)\n",
    "\n",
    "# plot the sores by episode\n",
    "ax1.plot(np.arange(len(values)), values)\n",
    "ax1.set_xlim(0, len(values)+1)\n",
    "ax1.set_ylabel('Score')\n",
    "ax1.set_xlabel('Episode #')\n",
    "ax1.set_title('raw scores')\n",
    "\n",
    "# plot the average of these scores\n",
    "ax2.axhline(y=0.5, xmin=0.0, xmax=1.0, color='r', linestyle='--', linewidth=0.7, alpha=0.9)\n",
    "ax2.plot(np.arange(len(averages)), averages)\n",
    "ax2.fill_between(np.arange(len(averages)), averages+std, averages-std, facecolor='gray', alpha=0.1)\n",
    "ax2.set_ylabel('Average Score')\n",
    "ax2.set_xlabel('Episode #')\n",
    "ax2.set_title('learning curve')\n",
    "\n",
    "f.tight_layout()"
   ]
  }
 ],
 "metadata": {
  "kernelspec": {
   "display_name": "drlnd",
   "language": "python",
   "name": "drlnd"
  },
  "language_info": {
   "codemirror_mode": {
    "name": "ipython",
    "version": 3
   },
   "file_extension": ".py",
   "mimetype": "text/x-python",
   "name": "python",
   "nbconvert_exporter": "python",
   "pygments_lexer": "ipython3",
   "version": "3.6.8"
  }
 },
 "nbformat": 4,
 "nbformat_minor": 2
}
